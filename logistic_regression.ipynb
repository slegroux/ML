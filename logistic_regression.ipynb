{
 "cells": [
  {
   "cell_type": "code",
   "execution_count": 1,
   "metadata": {
    "collapsed": false
   },
   "outputs": [],
   "source": [
    "from matplotlib import pyplot as plt\n",
    "from matplotlib import cm\n",
    "import pandas as pd\n",
    "import numpy as np\n",
    "%matplotlib inline\n",
    "plt.style.use('ggplot')"
   ]
  },
  {
   "cell_type": "code",
   "execution_count": 3,
   "metadata": {
    "collapsed": false
   },
   "outputs": [
    {
     "data": {
      "text/html": [
       "<div>\n",
       "<table border=\"1\" class=\"dataframe\">\n",
       "  <thead>\n",
       "    <tr style=\"text-align: right;\">\n",
       "      <th></th>\n",
       "      <th>exam1</th>\n",
       "      <th>exam2</th>\n",
       "      <th>admitted</th>\n",
       "    </tr>\n",
       "  </thead>\n",
       "  <tbody>\n",
       "    <tr>\n",
       "      <th>0</th>\n",
       "      <td>34.623660</td>\n",
       "      <td>78.024693</td>\n",
       "      <td>0</td>\n",
       "    </tr>\n",
       "    <tr>\n",
       "      <th>1</th>\n",
       "      <td>30.286711</td>\n",
       "      <td>43.894998</td>\n",
       "      <td>0</td>\n",
       "    </tr>\n",
       "    <tr>\n",
       "      <th>2</th>\n",
       "      <td>35.847409</td>\n",
       "      <td>72.902198</td>\n",
       "      <td>0</td>\n",
       "    </tr>\n",
       "    <tr>\n",
       "      <th>3</th>\n",
       "      <td>60.182599</td>\n",
       "      <td>86.308552</td>\n",
       "      <td>1</td>\n",
       "    </tr>\n",
       "    <tr>\n",
       "      <th>4</th>\n",
       "      <td>79.032736</td>\n",
       "      <td>75.344376</td>\n",
       "      <td>1</td>\n",
       "    </tr>\n",
       "  </tbody>\n",
       "</table>\n",
       "</div>"
      ],
      "text/plain": [
       "       exam1      exam2  admitted\n",
       "0  34.623660  78.024693         0\n",
       "1  30.286711  43.894998         0\n",
       "2  35.847409  72.902198         0\n",
       "3  60.182599  86.308552         1\n",
       "4  79.032736  75.344376         1"
      ]
     },
     "execution_count": 3,
     "metadata": {},
     "output_type": "execute_result"
    }
   ],
   "source": [
    "data = pd.read_csv('db/ex2data1.txt', names=['exam1','exam2','admitted'])\n",
    "data.head()"
   ]
  },
  {
   "cell_type": "code",
   "execution_count": 6,
   "metadata": {
    "collapsed": false
   },
   "outputs": [
    {
     "name": "stdout",
     "output_type": "stream",
     "text": [
      "0 red\n",
      "1 blue\n"
     ]
    },
    {
     "data": {
      "image/png": "[encoded data removed]",
      "text/plain": [
       "<matplotlib.figure.Figure at 0x115b72410>"
      ]
     },
     "metadata": {},
     "output_type": "display_data"
    }
   ],
   "source": [
    "# data.plot(kind='scatter',x='exam1',y='exam2')\n",
    "groups = data.groupby('admitted')\n",
    "colors={'0':'red','1':'blue'}\n",
    "fig,ax = plt.subplots()\n",
    "for key,group in groups:\n",
    "    print key, colors[str(key)]\n",
    "    group.plot(ax=ax,kind='scatter',x='exam1',y='exam2',label=key,color=colors[str(key)])\n"
   ]
  },
  {
   "cell_type": "markdown",
   "metadata": {},
   "source": [
    "## sigmoid function"
   ]
  },
  {
   "cell_type": "code",
   "execution_count": 7,
   "metadata": {
    "collapsed": false
   },
   "outputs": [
    {
     "name": "stdout",
     "output_type": "stream",
     "text": [
      "0.990048198133 0.5 0.0099518018669\n"
     ]
    },
    {
     "data": {
      "image/png": "[encoded data removed]",
      "text/plain": [
       "<matplotlib.figure.Figure at 0x115fcca10>"
      ]
     },
     "metadata": {},
     "output_type": "display_data"
    }
   ],
   "source": [
    "def sigmoid(z):\n",
    "    return 1/(1 + np.exp(-z))\n",
    "\n",
    "# hypothesis is squashed to [0,1]\n",
    "x = np.linspace(-6,6)\n",
    "plt.plot(x, sigmoid(x))\n",
    "print sigmoid(4.6), sigmoid(0), sigmoid(-4.6)"
   ]
  },
  {
   "cell_type": "markdown",
   "metadata": {},
   "source": [
    "## Cost function"
   ]
  },
  {
   "cell_type": "code",
   "execution_count": 22,
   "metadata": {
    "collapsed": false
   },
   "outputs": [
    {
     "name": "stdout",
     "output_type": "stream",
     "text": [
      "[[  1.          34.62365962  78.02469282]\n",
      " [  1.          30.28671077  43.89499752]\n",
      " [  1.          35.84740877  72.90219803]\n",
      " [  1.          60.18259939  86.3085521 ]\n",
      " [  1.          79.03273605  75.34437644]]\n",
      "cost: 0.69314718056\n"
     ]
    }
   ],
   "source": [
    "def cost_function(theta, X, y):\n",
    "    J = 0\n",
    "    for i in range(len(X)):\n",
    "        prediction = sigmoid(np.dot(theta,X[i]))\n",
    "        J += (-y[i]*np.log(prediction)-(1-y[i])*np.log(1-prediction))\n",
    "    J = J/(len(X))\n",
    "    return J\n",
    "\n",
    "X = data[['exam1', 'exam2']].values\n",
    "X = np.column_stack((np.ones(len(X)),X))\n",
    "print X[:5]\n",
    "y = data['admitted'].values\n",
    "theta = np.zeros(3)\n",
    "print \"cost:\", cost_function(theta,X,y)"
   ]
  },
  {
   "cell_type": "markdown",
   "metadata": {},
   "source": [
    "## Minimize cost with optimizer"
   ]
  },
  {
   "cell_type": "code",
   "execution_count": 27,
   "metadata": {
    "collapsed": false
   },
   "outputs": [
    {
     "name": "stdout",
     "output_type": "stream",
     "text": [
      "Cost at theta found by scipy: 0.203498\n",
      "theta: ['-25.1828', '0.2064', '0.2016']\n"
     ]
    }
   ],
   "source": [
    "from scipy.optimize import fmin_bfgs, minimize\n",
    "res = minimize(\n",
    "    cost_function,\n",
    "    theta,\n",
    "    method='TNC',\n",
    "    jac=False,\n",
    "    args=(X, y),\n",
    "    options={'gtol': 1e-3, 'disp': True, 'maxiter': 1000}\n",
    ")\n",
    "# print res\n",
    "theta = res.x\n",
    "cost = res.fun\n",
    "# Print theta to screen\n",
    "print 'Cost at theta found by scipy: %f' % cost\n",
    "print 'theta:', [\"%0.4f\" % i for i in theta]"
   ]
  },
  {
   "cell_type": "markdown",
   "metadata": {},
   "source": [
    "## Visualization"
   ]
  },
  {
   "cell_type": "code",
   "execution_count": 29,
   "metadata": {
    "collapsed": false
   },
   "outputs": [
    {
     "data": {
      "image/png": "[encoded data removed]",
      "text/plain": [
       "<matplotlib.figure.Figure at 0x11615e8d0>"
      ]
     },
     "metadata": {},
     "output_type": "display_data"
    }
   ],
   "source": [
    "def plotData(X,y):\n",
    "    pos = X[np.where(y==1,True,False).flatten()]\n",
    "    neg = X[np.where(y==0,True,False).flatten()]\n",
    "    plt.plot(pos[:,0], pos[:,1], '+', markersize=7, markeredgecolor='black', markeredgewidth=2)\n",
    "    plt.plot(neg[:,0], neg[:,1], 'o', markersize=7, markeredgecolor='black', markerfacecolor='yellow')\n",
    "\n",
    "    \n",
    "def plotDecisionBoundary(theta, X, y):\n",
    "    \"\"\"\n",
    "    Plots the data points X and y into a new figure with the decision boundary defined by theta\n",
    "      PLOTDECISIONBOUNDARY(theta, X,y) plots the data points with + for the\n",
    "      positive examples and o for the negative examples. X is assumed to be\n",
    "      a either\n",
    "      1) Mx3 matrix, where the first column is an all-ones column for the\n",
    "         intercept.\n",
    "      2) MxN, N>3 matrix, where the first column is all-ones\n",
    "    \"\"\"\n",
    "\n",
    "    # Plot Data\n",
    "    plt.figure()\n",
    "    plotData(X[:,1:], y)\n",
    "\n",
    "    if X.shape[1] <= 3:\n",
    "        # Only need 2 points to define a line, so choose two endpoints\n",
    "        plot_x = np.array([min(X[:, 2]),  max(X[:, 2])])\n",
    "\n",
    "        # Calculate the decision boundary line\n",
    "        plot_y = (-1./theta[2])*(theta[1]*plot_x + theta[0])\n",
    "\n",
    "        # Plot, and adjust axes for better viewing\n",
    "        plt.plot(plot_x, plot_y)\n",
    "\n",
    "    else:\n",
    "        # Here is the grid range\n",
    "        u = np.linspace(-1, 1.5, 50)\n",
    "        v = np.linspace(-1, 1.5, 50)\n",
    "        z = [\n",
    "                np.array([mapFeature2(u[i], v[j]).dot(theta) for i in range(len(u))])\n",
    "                for j in range(len(v))\n",
    "            ]\n",
    "        plt.contour(u,v,z, levels=[0.0])\n",
    "\n",
    "    # Legend, specific for the exercise\n",
    "    # axis([30, 100, 30, 100])\n",
    "\n",
    "plotDecisionBoundary(theta, X, y)\n"
   ]
  },
  {
   "cell_type": "markdown",
   "metadata": {},
   "source": [
    "## Regularization"
   ]
  },
  {
   "cell_type": "code",
   "execution_count": 30,
   "metadata": {
    "collapsed": false
   },
   "outputs": [
    {
     "data": {
      "text/html": [
       "<div>\n",
       "<table border=\"1\" class=\"dataframe\">\n",
       "  <thead>\n",
       "    <tr style=\"text-align: right;\">\n",
       "      <th></th>\n",
       "      <th>test1</th>\n",
       "      <th>test2</th>\n",
       "      <th>accepted</th>\n",
       "    </tr>\n",
       "  </thead>\n",
       "  <tbody>\n",
       "    <tr>\n",
       "      <th>0</th>\n",
       "      <td>0.051267</td>\n",
       "      <td>0.69956</td>\n",
       "      <td>1</td>\n",
       "    </tr>\n",
       "    <tr>\n",
       "      <th>1</th>\n",
       "      <td>-0.092742</td>\n",
       "      <td>0.68494</td>\n",
       "      <td>1</td>\n",
       "    </tr>\n",
       "    <tr>\n",
       "      <th>2</th>\n",
       "      <td>-0.213710</td>\n",
       "      <td>0.69225</td>\n",
       "      <td>1</td>\n",
       "    </tr>\n",
       "    <tr>\n",
       "      <th>3</th>\n",
       "      <td>-0.375000</td>\n",
       "      <td>0.50219</td>\n",
       "      <td>1</td>\n",
       "    </tr>\n",
       "    <tr>\n",
       "      <th>4</th>\n",
       "      <td>-0.513250</td>\n",
       "      <td>0.46564</td>\n",
       "      <td>1</td>\n",
       "    </tr>\n",
       "  </tbody>\n",
       "</table>\n",
       "</div>"
      ],
      "text/plain": [
       "      test1    test2  accepted\n",
       "0  0.051267  0.69956         1\n",
       "1 -0.092742  0.68494         1\n",
       "2 -0.213710  0.69225         1\n",
       "3 -0.375000  0.50219         1\n",
       "4 -0.513250  0.46564         1"
      ]
     },
     "execution_count": 30,
     "metadata": {},
     "output_type": "execute_result"
    }
   ],
   "source": [
    "data = pd.read_csv('ex2data2.txt', names=['test1','test2','accepted'])\n",
    "data.head()"
   ]
  },
  {
   "cell_type": "code",
   "execution_count": 32,
   "metadata": {
    "collapsed": false
   },
   "outputs": [
    {
     "name": "stdout",
     "output_type": "stream",
     "text": [
      "0 red\n",
      "1 blue\n"
     ]
    },
    {
     "data": {
      "image/png": "[encoded data removed]",
      "text/plain": [
       "<matplotlib.figure.Figure at 0x115b17510>"
      ]
     },
     "metadata": {},
     "output_type": "display_data"
    }
   ],
   "source": [
    "groups = data.groupby('accepted')\n",
    "colors={'0':'red','1':'blue'}\n",
    "fig,ax = plt.subplots()\n",
    "for key,group in groups:\n",
    "    print key, colors[str(key)]\n",
    "    group.plot(ax=ax,kind='scatter',x='test1',y='test2',label=key,color=colors[str(key)])"
   ]
  },
  {
   "cell_type": "code",
   "execution_count": 50,
   "metadata": {
    "collapsed": false
   },
   "outputs": [
    {
     "name": "stdout",
     "output_type": "stream",
     "text": [
      "   0     test1    test2         0        1         2         3         4  \\\n",
      "0  1  0.051267  0.69956  0.051267  0.69956  0.002628  0.035864  0.489384   \n",
      "1  1 -0.092742  0.68494 -0.092742  0.68494  0.008601 -0.063523  0.469143   \n",
      "2  1 -0.213710  0.69225 -0.213710  0.69225  0.045672 -0.147941  0.479210   \n",
      "3  1 -0.375000  0.50219 -0.375000  0.50219  0.140625 -0.188321  0.252195   \n",
      "4  1 -0.513250  0.46564 -0.513250  0.46564  0.263426 -0.238990  0.216821   \n",
      "\n",
      "          5         6    ...           17        18        19            20  \\\n",
      "0  0.000135  0.001839    ...     0.000900  0.012278  0.167542  1.815630e-08   \n",
      "1 -0.000798  0.005891    ...     0.002764 -0.020412  0.150752  6.362953e-07   \n",
      "2 -0.009761  0.031616    ...     0.015151 -0.049077  0.158970  9.526844e-05   \n",
      "3 -0.052734  0.070620    ...     0.017810 -0.023851  0.031940  2.780914e-03   \n",
      "4 -0.135203  0.122661    ...     0.026596 -0.024128  0.021890  1.827990e-02   \n",
      "\n",
      "             21        22        23        24        25        26  \n",
      "0  2.477505e-07  0.000003  0.000046  0.000629  0.008589  0.117206  \n",
      "1 -4.699318e-06  0.000035 -0.000256  0.001893 -0.013981  0.103256  \n",
      "2 -3.085938e-04  0.001000 -0.003238  0.010488 -0.033973  0.110047  \n",
      "3 -3.724126e-03  0.004987 -0.006679  0.008944 -0.011978  0.016040  \n",
      "4 -1.658422e-02  0.015046 -0.013650  0.012384 -0.011235  0.010193  \n",
      "\n",
      "[5 rows x 30 columns]\n"
     ]
    }
   ],
   "source": [
    "def map_feature(X, degree=6):\n",
    "    \"\"\"\n",
    "    Feature mapping function to polynomial features\n",
    "\n",
    "    MAPFEATURE(X, degree) maps the two input features\n",
    "    to quadratic features used in the regularization exercise.\n",
    "\n",
    "    Returns a new feature array with more features, comprising of\n",
    "    X1, X2, X1.^2, X2.^2, X1*X2, X1*X2.^2, etc..\n",
    "    \"\"\"\n",
    "    quads = pd.Series([X.iloc[0]**(i-j) * X.iloc[1]**j for i in range(1,degree+1) for j in range(i+1)])\n",
    "    return pd.Series([1]).append([X,quads])\n",
    "\n",
    "X = data[['test1','test2']]\n",
    "y = data['accepted'].values\n",
    "X = X.apply(map_feature, axis=1)\n",
    "print X.head()\n",
    "X=X.values"
   ]
  },
  {
   "cell_type": "code",
   "execution_count": 52,
   "metadata": {
    "collapsed": false
   },
   "outputs": [
    {
     "data": {
      "text/plain": [
       "0.69314718055994606"
      ]
     },
     "execution_count": 52,
     "metadata": {},
     "output_type": "execute_result"
    }
   ],
   "source": [
    "def cost_function_reg(theta, X, y, Lambda):\n",
    "    J = 0\n",
    "    for i in range(len(X)):\n",
    "        prediction = sigmoid(np.dot(theta,X[i]))\n",
    "        J += (-y[i]*np.log(prediction)-(1-y[i])*np.log(1-prediction))\n",
    "    J = J/(len(X)) + (Lambda/(2*len(X)))*np.dot(theta[1:],theta[1:])\n",
    "    return J\n",
    "\n",
    "initial_theta = np.zeros(X.shape[1])\n",
    "Lambda = 0.0\n",
    "cost_function_reg(initial_theta, X, y, Lambda)"
   ]
  },
  {
   "cell_type": "code",
   "execution_count": null,
   "metadata": {
    "collapsed": true
   },
   "outputs": [],
   "source": []
  }
 ],
 "metadata": {
  "kernelspec": {
   "display_name": "Python 2",
   "language": "python",
   "name": "python2"
  },
  "language_info": {
   "codemirror_mode": {
    "name": "ipython",
    "version": 2
   },
   "file_extension": ".py",
   "mimetype": "text/x-python",
   "name": "python",
   "nbconvert_exporter": "python",
   "pygments_lexer": "ipython2",
   "version": "2.7.13"
  }
 },
 "nbformat": 4,
 "nbformat_minor": 0
}
